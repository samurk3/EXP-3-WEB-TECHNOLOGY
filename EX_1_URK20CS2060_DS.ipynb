{
  "cells": [
    {
      "cell_type": "markdown",
      "metadata": {
        "id": "view-in-github",
        "colab_type": "text"
      },
      "source": [
        "<a href=\"https://colab.research.google.com/github/samurk3/EXP-3-WEB-TECHNOLOGY/blob/main/EX_1_URK20CS2060_DS.ipynb\" target=\"_parent\"><img src=\"https://colab.research.google.com/assets/colab-badge.svg\" alt=\"Open In Colab\"/></a>"
      ]
    },
    {
      "cell_type": "markdown",
      "source": [
        "**EXP** - **1**"
      ],
      "metadata": {
        "id": "ZRtycyhUIgAX"
      },
      "id": "ZRtycyhUIgAX"
    },
    {
      "cell_type": "markdown",
      "source": [
        "NAME : SAMUEL KENNEDY\n",
        "\n",
        "REG NO: URK20CS2060"
      ],
      "metadata": {
        "id": "pZjGfuF_IHI9"
      },
      "id": "pZjGfuF_IHI9"
    },
    {
      "cell_type": "markdown",
      "id": "b4149ef4",
      "metadata": {
        "id": "b4149ef4"
      },
      "source": [
        "## QUESTION SET 2                                                                                               URK20CS2060"
      ]
    },
    {
      "cell_type": "code",
      "execution_count": null,
      "id": "5389ecc0",
      "metadata": {
        "id": "5389ecc0",
        "outputId": "a2e7c7c0-2b80-4cd8-b6b3-93056e5fe134"
      },
      "outputs": [
        {
          "name": "stdout",
          "output_type": "stream",
          "text": [
            "Number of subjects3\n",
            "Enter the sub_code and sub_name: 1 webtech\n",
            "Enter the sub_code and sub_name: 2 ids\n",
            "Enter the sub_code and sub_name: 3 database\n",
            "Enter the sub_code to identify2\n",
            "ids\n"
          ]
        }
      ],
      "source": [
        "#1.\n",
        "\n",
        "\n",
        "n = int(input(\"Number of subjects\"))\n",
        "temp = dict(input(\"Enter the sub_code and sub_name: \").split() for s in range(n))\n",
        "\n",
        "identify = input(\"Enter the sub_code to identify\")\n",
        "for i in range(len(temp)):\n",
        "    if identify in temp.keys():\n",
        "        print(temp[identify])\n",
        "        break\n",
        "    else:\n",
        "        print(\"sub_name not available!!\")\n",
        "        \n",
        "\n"
      ]
    },
    {
      "cell_type": "code",
      "execution_count": null,
      "id": "9b689de4",
      "metadata": {
        "id": "9b689de4",
        "outputId": "96767f27-3f02-4528-8748-0498e90807a2"
      },
      "outputs": [
        {
          "name": "stdout",
          "output_type": "stream",
          "text": [
            "Enter the numbe of words to insert: 3\n",
            "Enter the words: samuel\n",
            "Enter the words: kennedy\n",
            "Enter the words: programmer\n",
            "Enter n: 3\n",
            "leumas\n",
            "ydennek\n",
            "remmargorp\n"
          ]
        }
      ],
      "source": [
        "#2\n",
        "\n",
        "n = int(input('Enter the numbe of words to insert: '))\n",
        "temp2 = [input(f\"Enter the words: \") for _ in range(n)]\n",
        "k = int(input(\"Enter n: \"))\n",
        "\n",
        "for i in temp2:\n",
        "    if len(i) >= k:\n",
        "        print(i[::-1])"
      ]
    },
    {
      "cell_type": "code",
      "execution_count": null,
      "id": "9cafa703",
      "metadata": {
        "id": "9cafa703",
        "outputId": "e5607f73-5936-44dd-eedd-4fd953fd1fd2"
      },
      "outputs": [
        {
          "name": "stdout",
          "output_type": "stream",
          "text": [
            "Enter the range of set 1: 3\n",
            "Enter set 1: fire\n",
            "Enter set 1: onthe\n",
            "Enter set 1: whole\n",
            "Enter the range of set 2: 3\n",
            "Enter set 2: sprint\n",
            "Enter set 2: rock\n",
            "Enter set 2: bold\n",
            "Union:  {'onthe', 'rock', 'whole', 'bold', 'fire', 'sprint'}\n",
            "Intersection:  set()\n",
            "Difference:  {'rock', 'sprint', 'bold'}\n"
          ]
        }
      ],
      "source": [
        "#3 \n",
        "\n",
        "c1 = int(input(\"Enter the range of set 1: \"))\n",
        "set1 = set(input(\"Enter set 1: \") for i in range(c1))\n",
        "c2 = int(input(\"Enter the range of set 2: \"))\n",
        "set2 = set(input(\"Enter set 2: \") for _ in range(c2))\n",
        "\n",
        "print(\"Union: \", set1.union(set2))\n",
        "print(\"Intersection: \", set1.intersection(set2))\n",
        "print(\"Difference: \", set.difference(set2))\n"
      ]
    },
    {
      "cell_type": "code",
      "execution_count": null,
      "id": "49b100f1",
      "metadata": {
        "id": "49b100f1",
        "outputId": "f895689d-bc71-480f-ad11-7d78ba0eb8b9"
      },
      "outputs": [
        {
          "name": "stdout",
          "output_type": "stream",
          "text": [
            "Enter the number of values: 2\n",
            "Enter some values: 0\n",
            "Enter some values: 6\n",
            "Enter the element you want to count: 0\n",
            "1\n"
          ]
        }
      ],
      "source": [
        "#4\n",
        "\n",
        "n = int(input(\"Enter the number of values: \"))\n",
        "temp = tuple(input(\"Enter some values: \") for _ in range(n))\n",
        "count = 0\n",
        "search = input(\"Enter the element you want to count: \")\n",
        "for i in temp:\n",
        "    if i == search:\n",
        "        count+=1\n",
        "\n",
        "print(count)"
      ]
    },
    {
      "cell_type": "code",
      "execution_count": null,
      "id": "1393dd00",
      "metadata": {
        "id": "1393dd00",
        "outputId": "eca3a1a3-82d3-4f23-b33e-8eda419150b0"
      },
      "outputs": [
        {
          "name": "stdout",
          "output_type": "stream",
          "text": [
            "Subtracted:  [[ 3  5  0]\n",
            " [-3 -7  2]]\n",
            "Multiplied:  [[10  6 49]\n",
            " [ 4 18  3]]\n"
          ]
        }
      ],
      "source": [
        "#5\n",
        "\n",
        "import numpy as np\n",
        "\n",
        "array_1 = np.array([[5, 6, 7],\n",
        "                    [1, 2, 3]])\n",
        "array_2 = np.array([[2, 1, 7],\n",
        "                    [4, 9, 1]])\n",
        "\n",
        "sub = np.subtract(array_1, array_2)\n",
        "mul = np.multiply(array_1, array_2)\n",
        "\n",
        "print(\"Subtracted: \", sub)\n",
        "print(\"Multiplied: \", mul)\n"
      ]
    },
    {
      "cell_type": "code",
      "execution_count": null,
      "id": "ec0d3aac",
      "metadata": {
        "id": "ec0d3aac",
        "outputId": "1a48c611-8f4b-4047-c65a-5bab543b1611"
      },
      "outputs": [
        {
          "data": {
            "text/html": [
              "<div>\n",
              "<style scoped>\n",
              "    .dataframe tbody tr th:only-of-type {\n",
              "        vertical-align: middle;\n",
              "    }\n",
              "\n",
              "    .dataframe tbody tr th {\n",
              "        vertical-align: top;\n",
              "    }\n",
              "\n",
              "    .dataframe thead th {\n",
              "        text-align: right;\n",
              "    }\n",
              "</style>\n",
              "<table border=\"1\" class=\"dataframe\">\n",
              "  <thead>\n",
              "    <tr style=\"text-align: right;\">\n",
              "      <th></th>\n",
              "      <th>age</th>\n",
              "      <th>sex</th>\n",
              "      <th>cp</th>\n",
              "      <th>trestbps</th>\n",
              "      <th>chol</th>\n",
              "      <th>fbs</th>\n",
              "      <th>restecg</th>\n",
              "      <th>thalach</th>\n",
              "      <th>exang</th>\n",
              "      <th>oldpeak</th>\n",
              "      <th>slope</th>\n",
              "      <th>ca</th>\n",
              "      <th>thal</th>\n",
              "      <th>target</th>\n",
              "    </tr>\n",
              "  </thead>\n",
              "  <tbody>\n",
              "    <tr>\n",
              "      <th>0</th>\n",
              "      <td>63</td>\n",
              "      <td>1</td>\n",
              "      <td>3</td>\n",
              "      <td>145</td>\n",
              "      <td>233</td>\n",
              "      <td>1</td>\n",
              "      <td>0</td>\n",
              "      <td>150</td>\n",
              "      <td>0</td>\n",
              "      <td>2.3</td>\n",
              "      <td>0</td>\n",
              "      <td>0</td>\n",
              "      <td>1</td>\n",
              "      <td>1</td>\n",
              "    </tr>\n",
              "    <tr>\n",
              "      <th>1</th>\n",
              "      <td>37</td>\n",
              "      <td>1</td>\n",
              "      <td>2</td>\n",
              "      <td>130</td>\n",
              "      <td>250</td>\n",
              "      <td>0</td>\n",
              "      <td>1</td>\n",
              "      <td>187</td>\n",
              "      <td>0</td>\n",
              "      <td>3.5</td>\n",
              "      <td>0</td>\n",
              "      <td>0</td>\n",
              "      <td>2</td>\n",
              "      <td>1</td>\n",
              "    </tr>\n",
              "    <tr>\n",
              "      <th>2</th>\n",
              "      <td>41</td>\n",
              "      <td>0</td>\n",
              "      <td>1</td>\n",
              "      <td>130</td>\n",
              "      <td>204</td>\n",
              "      <td>0</td>\n",
              "      <td>0</td>\n",
              "      <td>172</td>\n",
              "      <td>0</td>\n",
              "      <td>1.4</td>\n",
              "      <td>2</td>\n",
              "      <td>0</td>\n",
              "      <td>2</td>\n",
              "      <td>1</td>\n",
              "    </tr>\n",
              "    <tr>\n",
              "      <th>3</th>\n",
              "      <td>56</td>\n",
              "      <td>1</td>\n",
              "      <td>1</td>\n",
              "      <td>120</td>\n",
              "      <td>236</td>\n",
              "      <td>0</td>\n",
              "      <td>1</td>\n",
              "      <td>178</td>\n",
              "      <td>0</td>\n",
              "      <td>0.8</td>\n",
              "      <td>2</td>\n",
              "      <td>0</td>\n",
              "      <td>2</td>\n",
              "      <td>1</td>\n",
              "    </tr>\n",
              "    <tr>\n",
              "      <th>4</th>\n",
              "      <td>57</td>\n",
              "      <td>0</td>\n",
              "      <td>0</td>\n",
              "      <td>120</td>\n",
              "      <td>354</td>\n",
              "      <td>0</td>\n",
              "      <td>1</td>\n",
              "      <td>163</td>\n",
              "      <td>1</td>\n",
              "      <td>0.6</td>\n",
              "      <td>2</td>\n",
              "      <td>0</td>\n",
              "      <td>2</td>\n",
              "      <td>1</td>\n",
              "    </tr>\n",
              "  </tbody>\n",
              "</table>\n",
              "</div>"
            ],
            "text/plain": [
              "   age  sex  cp  trestbps  chol  fbs  restecg  thalach  exang  oldpeak  slope  \\\n",
              "0   63    1   3       145   233    1        0      150      0      2.3      0   \n",
              "1   37    1   2       130   250    0        1      187      0      3.5      0   \n",
              "2   41    0   1       130   204    0        0      172      0      1.4      2   \n",
              "3   56    1   1       120   236    0        1      178      0      0.8      2   \n",
              "4   57    0   0       120   354    0        1      163      1      0.6      2   \n",
              "\n",
              "   ca  thal  target  \n",
              "0   0     1       1  \n",
              "1   0     2       1  \n",
              "2   0     2       1  \n",
              "3   0     2       1  \n",
              "4   0     2       1  "
            ]
          },
          "execution_count": 11,
          "metadata": {},
          "output_type": "execute_result"
        }
      ],
      "source": [
        "#6\n",
        "\n",
        "import pandas as pd\n",
        "\n",
        "data = pd.read_csv(r\"https://raw.githubusercontent.com/kb22/Heart-Disease-Prediction/master/dataset.csv\")\n",
        "\n",
        "data.head()\n",
        "\n",
        "\n"
      ]
    },
    {
      "cell_type": "code",
      "execution_count": null,
      "id": "d5977b33",
      "metadata": {
        "id": "d5977b33"
      },
      "outputs": [],
      "source": []
    }
  ],
  "metadata": {
    "kernelspec": {
      "display_name": "Python 3",
      "language": "python",
      "name": "python3"
    },
    "language_info": {
      "codemirror_mode": {
        "name": "ipython",
        "version": 3
      },
      "file_extension": ".py",
      "mimetype": "text/x-python",
      "name": "python",
      "nbconvert_exporter": "python",
      "pygments_lexer": "ipython3",
      "version": "3.6.8"
    },
    "colab": {
      "provenance": [],
      "include_colab_link": true
    }
  },
  "nbformat": 4,
  "nbformat_minor": 5
}